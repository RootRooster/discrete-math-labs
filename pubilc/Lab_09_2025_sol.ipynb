{
 "cells": [
  {
   "cell_type": "markdown",
   "metadata": {},
   "source": [
    "## List coloring of planar triangulations"
   ]
  },
  {
   "cell_type": "markdown",
   "metadata": {},
   "source": [
    "According to Thomassen's theorem every planar graph is 5-choosable. The algorithm for list coloring planar graphs is described in Lecture Notes available [here](http://matematika.fri.uni-lj.si/dm/discrete_mathematics.pdf), Section 6.3. See also Lectures!"
   ]
  },
  {
   "cell_type": "markdown",
   "metadata": {},
   "source": [
    "#### Auxillary functions"
   ]
  },
  {
   "cell_type": "code",
   "execution_count": 1,
   "metadata": {},
   "outputs": [],
   "source": [
    "def rotate(emb, u, v):\n",
    "    \"\"\"Finds the neighbors of `u` which comes in the counter-clockwise order\n",
    "    after the neighbor `v`.    \n",
    "    `emb` contains clockwise ordering of the neighbors. We need\n",
    "    the vertex just before `v`.\"\"\"\n",
    "    vi = emb[u].index(v)\n",
    "    return emb[u][vi - 1]"
   ]
  },
  {
   "cell_type": "code",
   "execution_count": 2,
   "metadata": {},
   "outputs": [],
   "source": [
    "def face(G):\n",
    "    \"\"\"Returns a face (\"facial walk\") in the planar embedding of `G`.\"\"\"\n",
    "    G.is_planar(set_embedding=True, set_pos=True)\n",
    "    F = G.faces()[0]\n",
    "    F = [x for (x, y) in F]\n",
    "    return F"
   ]
  },
  {
   "cell_type": "markdown",
   "metadata": {},
   "source": [
    "Example"
   ]
  },
  {
   "cell_type": "code",
   "execution_count": 3,
   "metadata": {},
   "outputs": [],
   "source": [
    "G = Graph('IxEeJNw]G')\n",
    "F = face(G)"
   ]
  },
  {
   "cell_type": "code",
   "execution_count": 4,
   "metadata": {},
   "outputs": [
    {
     "data": {
      "image/png": "[encoded data removed]",
      "text/plain": [
       "Graphics object consisting of 35 graphics primitives"
      ]
     },
     "execution_count": 4,
     "metadata": {},
     "output_type": "execute_result"
    }
   ],
   "source": [
    "G.plot()"
   ]
  },
  {
   "cell_type": "code",
   "execution_count": 5,
   "metadata": {},
   "outputs": [
    {
     "data": {
      "text/plain": [
       "{0: [1, 8, 2, 5, 6],\n",
       " 1: [6, 7, 2, 9, 8, 0],\n",
       " 2: [0, 8, 3, 9, 1, 7, 5],\n",
       " 3: [8, 4, 9, 2],\n",
       " 4: [8, 9, 3],\n",
       " 5: [0, 2, 7, 6],\n",
       " 6: [0, 5, 7, 1],\n",
       " 7: [6, 5, 2, 1],\n",
       " 8: [0, 1, 9, 4, 3, 2],\n",
       " 9: [1, 2, 3, 4, 8]}"
      ]
     },
     "execution_count": 5,
     "metadata": {},
     "output_type": "execute_result"
    }
   ],
   "source": [
    "G.get_embedding()"
   ]
  },
  {
   "cell_type": "markdown",
   "metadata": {},
   "source": [
    "F is (outer) face (in clockwise order)"
   ]
  },
  {
   "cell_type": "code",
   "execution_count": 6,
   "metadata": {},
   "outputs": [
    {
     "data": {
      "text/plain": [
       "[0, 1, 6]"
      ]
     },
     "execution_count": 6,
     "metadata": {},
     "output_type": "execute_result"
    }
   ],
   "source": [
    "F"
   ]
  },
  {
   "cell_type": "markdown",
   "metadata": {},
   "source": [
    "The vertex following 8 in the embedding around 3 in the counter-clockwise order is 2"
   ]
  },
  {
   "cell_type": "code",
   "execution_count": 7,
   "metadata": {},
   "outputs": [
    {
     "data": {
      "text/plain": [
       "2"
      ]
     },
     "execution_count": 7,
     "metadata": {},
     "output_type": "execute_result"
    }
   ],
   "source": [
    "rotate(G.get_embedding(), 3, 8)"
   ]
  },
  {
   "cell_type": "markdown",
   "metadata": {},
   "source": [
    "#### Implementation of the algorithm"
   ]
  },
  {
   "cell_type": "markdown",
   "metadata": {},
   "source": [
    "Notes:\n",
    "* We can implement the algorithm without altering G\n",
    "* We will, however, alter lists in L (we will remove colors from them)"
   ]
  },
  {
   "cell_type": "code",
   "execution_count": 8,
   "metadata": {},
   "outputs": [],
   "source": [
    "def list_coloring(G, L):\n",
    "    \"\"\"\n",
    "    Colors a planar triangulation `G` using colors in color map `L`; that is `L` maps a vertex to a list of length 5 containing\n",
    "    5 (different) integers representing admissible colors for this vertex\n",
    "    \n",
    "    \"\"\"\n",
    "    F = face(G)  # choose a face\n",
    "    emb = G.get_embedding()  # get embedding\n",
    "    \n",
    "    u, v = F[0], F[1]  # choose two consecutive vertices from face F\n",
    "    col = {}  # coloring is empty at the beginning\n",
    "    col[u] = L[u][0]  # color u with the first color in its list\n",
    "    if L[v][0] == col[u]:  \n",
    "        col[v] = L[v][1]  # color v with the second color in its list, if the first one is the same as the color used for v\n",
    "    else:\n",
    "        col[v] = L[v][0]  # color v with the first color in its list, if it is not the same as color used for v\n",
    "        \n",
    "    list_coloring_rec(emb, L, F, col)  # recursive coloring\n",
    "    return col"
   ]
  },
  {
   "cell_type": "code",
   "execution_count": 9,
   "metadata": {},
   "outputs": [],
   "source": [
    "def list_coloring_rec(emb, L, F, col):\n",
    "    \"\"\"`list_coloring_rec` extends the coloring `col` to include all\n",
    "    of the vertices inside the cycle `F` and on `F`.\n",
    "    \n",
    "    We assume that the vertices `F[0]` and `F[1]` are already\n",
    "    colored in `col`, that color lists for vertices of `F` have length (at least) 3 and all lists for vertices\n",
    "    inside cycle `F` have length 5.\n",
    "    \n",
    "    Arguments:\n",
    "        - `emb`: embedding of the graph\n",
    "        - `L`: list of colors\n",
    "        - `F`: a cycle in `G`\n",
    "        - `col`: a coloring as a dictionary.\n",
    "    \n",
    "    Side effects:\n",
    "        - extends the coloring `col` to `F`.\"\"\"\n",
    "    \n",
    "    u, v, w = F[0], F[1], F[2]  # let u, v, w be consecutive vertices on cycle F\n",
    "    \n",
    "    # Base of the recursion: \n",
    "    # If G is a triangle (F), then we can color F easily, since we assume that \n",
    "    # each vertex of F has 3 available colors\n",
    "    # Question: How do we know that at this moment \"G\" is a triangle? (since we do not alter G)\n",
    "    # Clearly |F| must be 3, but this is not enough, the \"interior of F must be empty\n",
    "    if len(F) == 3 and rotate(emb, v, u) == w:\n",
    "        if L[w][0] != col[v] and L[w][0] != col[u]:\n",
    "            col[w] = L[w][0]\n",
    "        elif L[w][1] != col[v] and L[w][1] != col[u]:\n",
    "            col[w] = L[w][1]\n",
    "        else:\n",
    "            col[w] = L[w][2]\n",
    "        return\n",
    "    \n",
    "    z = u if len(F) == 3 else F[3]\n",
    "    P = []\n",
    "    \n",
    "    # Try to find a chord from w (see illustration below):\n",
    "    # Algorithm: rotate v around w until you hit a vertex in F which is not z; use rotate function defined above\n",
    "    chord_found = False\n",
    "    x = rotate(emb, w, v)\n",
    "    while x != z:\n",
    "        if x in F:\n",
    "            chord_found = True\n",
    "            break\n",
    "        else:\n",
    "            P.append(x)\n",
    "        x = rotate(emb, w, x)\n",
    "            \n",
    "    # if chord is found, recursively run this algorithm with F1 = [u, v, w, x, .....]\n",
    "    # and then with F2 = [x, w, z, ...]\n",
    "    if chord_found:\n",
    "        xi = F.index(x) if x != u else len(F)\n",
    "        F1 = [u, v, w] + F[xi:]\n",
    "        F2 = [x, w] + F[3:xi]\n",
    "        list_coloring_rec(emb, L, F1, col)\n",
    "        list_coloring_rec(emb, L, F2, col)\n",
    "    else:\n",
    "        # Let P = [x1, x2, ..., xk]\n",
    "        # From the list of colors for w, L[w], remove color of v (v is already colored!), if exists in L[w]\n",
    "        # from the lists of each vertex in P remove two colors from L[w] (any two, and there are at least 2!)\n",
    "        # recursively call this function with F_ = [u, v, x1, ..., xk, z, ...]\n",
    "        # and the extend coloring to w. How?\n",
    "        F_ = [u, v] + P + F[3:]\n",
    "        if col[v] in L[w]:\n",
    "            L[w].remove(col[v])\n",
    "        for p in P:\n",
    "            if L[w][0] in L[p]:\n",
    "                L[p].remove(L[w][0])\n",
    "            if L[w][1] in L[p]:\n",
    "                L[p].remove(L[w][1])\n",
    "        list_coloring_rec(emb, L, F_, col)\n",
    "        col[w] = L[w][0] if L[w][0] != col[z] else L[w][1]\n"
   ]
  },
  {
   "cell_type": "markdown",
   "metadata": {},
   "source": [
    "[](chordsccw.png)"
   ]
  },
  {
   "cell_type": "markdown",
   "metadata": {},
   "source": [
    "![alt text](chordsccw.png \"Title\")"
   ]
  },
  {
   "cell_type": "markdown",
   "metadata": {},
   "source": [
    "### Tests"
   ]
  },
  {
   "cell_type": "code",
   "execution_count": 9,
   "metadata": {},
   "outputs": [],
   "source": [
    "def random_list(n):\n",
    "    \"\"\"Returns 5 random numbers from 0 .. n - 1.\"\"\"\n",
    "    import random\n",
    "    L = random.sample(range(n), 5)\n",
    "    L.sort()\n",
    "    return L"
   ]
  },
  {
   "cell_type": "code",
   "execution_count": 10,
   "metadata": {},
   "outputs": [],
   "source": [
    "def random_lists(G, n = 9):\n",
    "    \"\"\"Returns a random color lists for the graph `G`.\"\"\"\n",
    "    L = {}\n",
    "    for v in G.vertices():\n",
    "        L[v] = random_list(n)\n",
    "    return L"
   ]
  },
  {
   "cell_type": "code",
   "execution_count": 11,
   "metadata": {},
   "outputs": [],
   "source": [
    "def check_coloring(G, L, col):\n",
    "    \"\"\"Checks is `col` is an `L`-coloring of the graph `G`.\"\"\"\n",
    "    \n",
    "    # colors should be from the lists\n",
    "    for v in G.vertices():\n",
    "        if col[v] not in L[v]:\n",
    "            return False\n",
    "    \n",
    "    # endpoints of edges should have different colors\n",
    "    for e in G.edges(labels = False):\n",
    "        if col[e[0]] == col[e[1]]:\n",
    "            return False\n",
    "\n",
    "    return True\n",
    "\n",
    "def plot_colored(G, col):\n",
    "    G.is_planar(set_pos=True)\n",
    "    res = {}\n",
    "    cnames = list(colors.keys())[10:]  # colors from the built-in sequence of colors, we take colors from 10 on...\n",
    "    for v, c in col.items():\n",
    "        res.setdefault(cnames[c], []).append(v)\n",
    "    return G.plot(vertex_colors=res)"
   ]
  },
  {
   "cell_type": "code",
   "execution_count": 14,
   "metadata": {},
   "outputs": [
    {
     "data": {
      "text/plain": [
       "True"
      ]
     },
     "execution_count": 14,
     "metadata": {},
     "output_type": "execute_result"
    }
   ],
   "source": [
    "G = Graph('IxEeJNw]G')\n",
    "L = random_lists(G)\n",
    "check_coloring(G, L, list_coloring(G, L))"
   ]
  },
  {
   "cell_type": "code",
   "execution_count": 15,
   "metadata": {},
   "outputs": [
    {
     "data": {
      "text/plain": [
       "{0: [1, 3, 4, 5, 8],\n",
       " 1: [0, 1, 3, 4, 8],\n",
       " 2: [2, 4, 7],\n",
       " 3: [0, 6, 8],\n",
       " 4: [2, 5, 7, 8],\n",
       " 5: [0, 1, 3, 5, 8],\n",
       " 6: [2, 4, 5, 6, 8],\n",
       " 7: [1, 3, 5, 8],\n",
       " 8: [1, 3, 6, 7, 8],\n",
       " 9: [3, 5, 6, 7]}"
      ]
     },
     "execution_count": 15,
     "metadata": {},
     "output_type": "execute_result"
    }
   ],
   "source": [
    "L"
   ]
  },
  {
   "cell_type": "code",
   "execution_count": 16,
   "metadata": {},
   "outputs": [
    {
     "data": {
      "image/png": "[encoded data removed]",
      "text/plain": [
       "Graphics object consisting of 35 graphics primitives"
      ]
     },
     "execution_count": 16,
     "metadata": {},
     "output_type": "execute_result"
    }
   ],
   "source": [
    "plot_colored(G, list_coloring(G, L))"
   ]
  },
  {
   "cell_type": "code",
   "execution_count": 17,
   "metadata": {},
   "outputs": [
    {
     "data": {
      "text/plain": [
       "True"
      ]
     },
     "execution_count": 17,
     "metadata": {},
     "output_type": "execute_result"
    }
   ],
   "source": [
    "G = Graph('NtKwwO@?]q_JwEI[_EG')\n",
    "L = random_lists(G)\n",
    "check_coloring(G, L, list_coloring(G, L))"
   ]
  },
  {
   "cell_type": "code",
   "execution_count": 18,
   "metadata": {},
   "outputs": [
    {
     "data": {
      "text/plain": [
       "True"
      ]
     },
     "execution_count": 18,
     "metadata": {},
     "output_type": "execute_result"
    }
   ],
   "source": [
    "G = Graph('SmSWGKT?WBaC{@c?W?M?@O?LO@b^k?E?C')\n",
    "L = random_lists(G)\n",
    "check_coloring(G, L, list_coloring(G,L))"
   ]
  },
  {
   "cell_type": "code",
   "execution_count": 19,
   "metadata": {},
   "outputs": [
    {
     "data": {
      "text/plain": [
       "True"
      ]
     },
     "execution_count": 19,
     "metadata": {},
     "output_type": "execute_result"
    }
   ],
   "source": [
    "G = Graph('Xj[xW[g?g@_FAIA__RXC_GKC?oIo?@??@_??o??G??@}??NG??X')\n",
    "L = random_lists(G)\n",
    "check_coloring(G, L, list_coloring(G, L))"
   ]
  },
  {
   "cell_type": "code",
   "execution_count": 20,
   "metadata": {},
   "outputs": [
    {
     "data": {
      "text/plain": [
       "True"
      ]
     },
     "execution_count": 20,
     "metadata": {},
     "output_type": "execute_result"
    }
   ],
   "source": [
    "G = Graph(']zSwGKF?_?_B?A??_?W?_?EC?WG?So?`c?AB??gG?@B_ACG?CG@??G?hz_?^K_?D?Aw?W?@_?G')\n",
    "L = random_lists(G)\n",
    "check_coloring(G, L, list_coloring(G, L))"
   ]
  },
  {
   "cell_type": "code",
   "execution_count": 21,
   "metadata": {},
   "outputs": [
    {
     "data": {
      "text/plain": [
       "True"
      ]
     },
     "execution_count": 21,
     "metadata": {},
     "output_type": "execute_result"
    }
   ],
   "source": [
    "G = graphs.RandomTriangulation(50)\n",
    "L = random_lists(G)\n",
    "check_coloring(G, L, list_coloring(G, L))"
   ]
  },
  {
   "cell_type": "code",
   "execution_count": null,
   "metadata": {},
   "outputs": [],
   "source": []
  }
 ],
 "metadata": {
  "kernelspec": {
   "display_name": "SageMath 10.5",
   "language": "sage",
   "name": "sagemath"
  },
  "language_info": {
   "codemirror_mode": {
    "name": "ipython",
    "version": 3
   },
   "file_extension": ".py",
   "mimetype": "text/x-python",
   "name": "python",
   "nbconvert_exporter": "python",
   "pygments_lexer": "ipython3",
   "version": "3.12.9"
  }
 },
 "nbformat": 4,
 "nbformat_minor": 4
}
