{
 "cells": [
  {
   "cell_type": "markdown",
   "metadata": {},
   "source": [
    "## Matchings and Covers in Bipartite Graphs"
   ]
  },
  {
   "cell_type": "markdown",
   "metadata": {},
   "source": [
    "Given a graph $G = (V,E)$, a *matching* $M$ in $G$ is a set of pairwise non-adjacent edges; that is, no two edges share a common vertex. A *maximum matching* is a matching that contains the largest possible number of edges.\n",
    "\n",
    "A (*vertex*) *cover* $C$ in $G$ is a set of vertices such that for every edge $uv \\in E$, either $u \\in C$ or $v \\in C$. A *minimum cover* is a cover of the smallest possible size."
   ]
  },
  {
   "cell_type": "markdown",
   "metadata": {
    "collapsed": true,
    "jupyter": {
     "outputs_hidden": true
    }
   },
   "source": [
    "### Algorithm for bipartite graphs"
   ]
  },
  {
   "cell_type": "markdown",
   "metadata": {},
   "source": [
    "Maximum matching (and minumum cover) in bipartite graphs can be found in polynomial time using Max-Flow-Min-Cut algorithm (Ford Fulkerson).\n",
    "Algorithm.\n",
    "1. Let $G$ be a bipartite graph with vertex bipartition $V(G) = A \\cup B$.\n",
    "2. Create a directed weighted graph $G^+$ with vertex set $V(G) \\cup \\{s, t\\}$, i.e., add two vertices, source ($s$) and sink ($t$).\n",
    "3. Edges of $G^+$ are edges $(s, a)$, $a \\in A$, $(b, t)$, $b \\in B$ and edges of the original graph directed from $A$ to $B$.\n",
    "4. Put weight (capacity) $1$ to edges of type $(s, a)$ and $(b, t)$ and $\\infty$ (a large integer, e.g., the number of vertices in $G$) to all other edges (edges between $A$ and $B$).\n",
    "5. Compute (integer) max flow $f$ with source $s$ and sink $t$.\n",
    "6. Maximum matching consist of edges $\\{uv \\in E(G) \\mid f(u, v) = 1\\}$.\n",
    "7. Compute min cut $(S, T)$, such that $s \\in S$ and $t \\in T$.  Minimum cover of $G$ is set $C = \\{v \\in A \\mid v \\in T\\} \\cup \\{v \\in B \\mid v \\in S\\}$ \n",
    "\n"
   ]
  },
  {
   "cell_type": "markdown",
   "metadata": {},
   "source": [
    "Why does this work?"
   ]
  },
  {
   "cell_type": "markdown",
   "metadata": {},
   "source": [
    "Let $f$ be the max flow (integral!) obtained in 5. Then the edge set in 6 is clearly a matching, since flow \"coming\" from the vertex $s$ to a vertex $a \\in A$ has value 1 and, since it is integral, cannot \"split\" from $a$ towards two vertices in $B$ Also flow cannot \"come\" to a vertex $b \\in B$ from two vertices in $A$, since it is integral and capacity of the edge $(b, t)$ is 1.\n",
    "\n",
    "The reverse is also true, any matching $M$ produces a flow from $s$ to $t$ with value $|M|$. Therefore a max flow gives a max matching and a max matching gives a max flow."
   ]
  },
  {
   "cell_type": "markdown",
   "metadata": {},
   "source": [
    "What about min cut. The set $C$ from 7 is a cover, since every edge with endpoint in $A \\cap T$ is covered and also every edge with endpoint in $B \\cap S$ is covered. The only uncovered edges would be edges between $A \\cap S$ and $B \\cap T$, but that edges would be part of the cut, and since their capacity is infinity, min cut would have infinite value. This is clearly not possible since a trivial cut $S = \\{s\\}, T = A \\cup B \\cup \\{t\\}$ is clearly finite ($|A|$). The other way is also easy to see. For every cover of $G$ you can construct a cut of $G^+$ of the form in 7. See this [link](http://www.cs.toronto.edu/~siavosh/csc373h/files/TN6.pdf) for more detailed explanation."
   ]
  },
  {
   "cell_type": "markdown",
   "metadata": {
    "collapsed": true,
    "jupyter": {
     "outputs_hidden": true
    }
   },
   "source": [
    "### Exercise"
   ]
  },
  {
   "cell_type": "markdown",
   "metadata": {
    "collapsed": true,
    "jupyter": {
     "outputs_hidden": true
    }
   },
   "source": [
    "Write functions `max_bipartite_matching(G)` and `min_bipartite_cover(G)` which return maximum matching and minimum cover in bipartite graph `G`. You can use Sage functions [flow](http://doc.sagemath.org/html/en/reference/graphs/sage/graphs/generic_graph.html#sage.graphs.generic_graph.GenericGraph.flow) and [edge_cut](http://doc.sagemath.org/html/en/reference/graphs/sage/graphs/generic_graph.html#sage.graphs.generic_graph.GenericGraph.edge_cut) to obtain max flow and min cut, respectively. "
   ]
  },
  {
   "cell_type": "code",
   "execution_count": 87,
   "metadata": {
    "vscode": {
     "languageId": "sage"
    }
   },
   "outputs": [],
   "source": [
    "def max_bipartite_matching(G):\n",
    "    A, B = G.bipartite_sets()\n",
    "\n",
    "    # construct a new graph\n",
    "    G_p = DiGraph()\n",
    "    source = G.order() + 1\n",
    "    sink = G.order() + 2\n",
    "    G_p.add_vertex(source)\n",
    "    G_p.add_vertex(sink)\n",
    "    for v in A:\n",
    "        G_p.add_vertex(v)\n",
    "    for v in B:\n",
    "        G_p.add_vertex(v)\n",
    "    for v in A:\n",
    "        G_p.add_edge(source, v)\n",
    "    for v in B:\n",
    "        G_p.add_edge(v, sink) \n",
    "    for edge in G.edges():\n",
    "        u, v = edge[0], edge[1]\n",
    "        if u in A and v in B:\n",
    "            G_p.add_edge(u, v)\n",
    "        elif v in A and u in B:\n",
    "            G_p.add_edge(v, u)\n",
    "    \n",
    "    capacity = {}\n",
    "    for v in A:\n",
    "        capacity[(source, v)] = 1\n",
    "    for v in B:\n",
    "        capacity[(v, sink)] = 1\n",
    "    graph_size = G.order()\n",
    "    for edge in G_p.edges():\n",
    "        u, v = edge[0], edge[1]\n",
    "        if u in A and v in B:\n",
    "            capacity[(u, v)] = graph_size\n",
    "    \n",
    "    _, flow_dict = G_p.flow(source, sink, value_only=False)\n",
    "    flow_edges_A_to_B = []\n",
    "    for edge in flow_dict.edges():\n",
    "        u, v, flow = edge\n",
    "        if u in A and v in B and flow > 0:\n",
    "            flow_edges_A_to_B.append((u, v, flow))\n",
    "    \n",
    "    return flow_edges_A_to_B\n",
    "\n",
    "    # connect all the vertices in A to source\n",
    "    # connect all the vertices in B to sink\n",
    "    # add edges that are in original graph G to G_p -> their direction is from A to B\n",
    "    # add weights of capacity 1 to all edges from source to A, from B to sink\n",
    "    # add weights of capacity (size of G) to all edges from A to B\n",
    "    # compute the flow from source to sink in G_p - use built-in flow function (use flow with value only = false)\n",
    "    # now we get a flow graph where we find the edges that are from A to B and are in the flow graph\n",
    "    # ...\n",
    "    "
   ]
  },
  {
   "cell_type": "code",
   "execution_count": 88,
   "metadata": {
    "vscode": {
     "languageId": "sage"
    }
   },
   "outputs": [],
   "source": [
    "G = graphs.RandomBipartite(6, 7, 0.3)"
   ]
  },
  {
   "cell_type": "code",
   "execution_count": 89,
   "metadata": {
    "vscode": {
     "languageId": "sage"
    }
   },
   "outputs": [],
   "source": [
    "G = Graph({1: [5, 6, 8], 2: [5, 7], 3: [7], 4: [7]})\n",
    "G.set_pos({1: (0, 1), 2: (0, 2), 3: (0, 3), 4: (0, 4), 5: (1, 1), 6: (1, 2), 7: (1, 3), 8: (1, 4)})"
   ]
  },
  {
   "cell_type": "code",
   "execution_count": 90,
   "metadata": {
    "vscode": {
     "languageId": "sage"
    }
   },
   "outputs": [
    {
     "data": {
      "image/png": "[encoded data removed]",
      "text/plain": [
       "Graphics object consisting of 16 graphics primitives"
      ]
     },
     "execution_count": 90,
     "metadata": {},
     "output_type": "execute_result"
    }
   ],
   "source": [
    "G.plot()"
   ]
  },
  {
   "cell_type": "code",
   "execution_count": 91,
   "metadata": {
    "vscode": {
     "languageId": "sage"
    }
   },
   "outputs": [
    {
     "data": {
      "text/plain": [
       "({1, 2, 3, 4}, {5, 6, 7, 8})"
      ]
     },
     "execution_count": 91,
     "metadata": {},
     "output_type": "execute_result"
    }
   ],
   "source": [
    "G.bipartite_sets()"
   ]
  },
  {
   "cell_type": "code",
   "execution_count": 92,
   "metadata": {
    "vscode": {
     "languageId": "sage"
    }
   },
   "outputs": [],
   "source": [
    "M = max_bipartite_matching(G)"
   ]
  },
  {
   "cell_type": "code",
   "execution_count": 93,
   "metadata": {
    "vscode": {
     "languageId": "sage"
    }
   },
   "outputs": [
    {
     "data": {
      "text/plain": [
       "[(1, 6, 1), (2, 5, 1), (3, 7, 1)]"
      ]
     },
     "execution_count": 93,
     "metadata": {},
     "output_type": "execute_result"
    }
   ],
   "source": [
    "M"
   ]
  },
  {
   "cell_type": "code",
   "execution_count": 94,
   "metadata": {
    "vscode": {
     "languageId": "sage"
    }
   },
   "outputs": [
    {
     "data": {
      "image/png": "[encoded data removed]",
      "text/plain": [
       "Graphics object consisting of 16 graphics primitives"
      ]
     },
     "metadata": {},
     "output_type": "display_data"
    }
   ],
   "source": [
    "G.show(edge_colors={\"red\": M})"
   ]
  },
  {
   "cell_type": "code",
   "execution_count": 109,
   "metadata": {
    "vscode": {
     "languageId": "sage"
    }
   },
   "outputs": [],
   "source": [
    "def min_bipartite_cover(G):\n",
    "    A, B = G.bipartite_sets()\n",
    "    # construct a new graph\n",
    "    G_p = DiGraph()\n",
    "    source = G.order() + 1\n",
    "    sink = G.order() + 2\n",
    "    G_p.add_vertex(source)\n",
    "    G_p.add_vertex(sink)\n",
    "    for v in G:\n",
    "        G_p.add_vertex(v)\n",
    "    for v in A:\n",
    "        G_p.add_edge(source, v, 1)\n",
    "    for v in B:\n",
    "        G_p.add_edge(v, sink, 1) \n",
    "    for edge in G.edges():\n",
    "        u, v = edge[0], edge[1]\n",
    "        if u in A and v in B:\n",
    "            G_p.add_edge(u, v, G.order())\n",
    "        elif v in A and u in B:\n",
    "            G_p.add_edge(v, u, G.order())\n",
    "    \n",
    "    _, _, sets =  G_p.edge_cut(source, sink, vertices=True)\n",
    "    return [v for v in A if v in sets[1]] + [v for v in B if v in sets[0]]"
   ]
  },
  {
   "cell_type": "code",
   "execution_count": 111,
   "metadata": {
    "vscode": {
     "languageId": "sage"
    }
   },
   "outputs": [],
   "source": [
    "cover = min_bipartite_cover(G)"
   ]
  },
  {
   "cell_type": "code",
   "execution_count": 112,
   "metadata": {
    "vscode": {
     "languageId": "sage"
    }
   },
   "outputs": [
    {
     "data": {
      "text/plain": [
       "[1, 2, 7]"
      ]
     },
     "execution_count": 112,
     "metadata": {},
     "output_type": "execute_result"
    }
   ],
   "source": [
    "cover"
   ]
  },
  {
   "cell_type": "code",
   "execution_count": 113,
   "metadata": {
    "vscode": {
     "languageId": "sage"
    }
   },
   "outputs": [
    {
     "data": {
      "image/png": "[encoded data removed]",
      "text/plain": [
       "Graphics object consisting of 16 graphics primitives"
      ]
     },
     "metadata": {},
     "output_type": "display_data"
    }
   ],
   "source": [
    "G.show(vertex_colors={\"red\": cover})"
   ]
  },
  {
   "cell_type": "code",
   "execution_count": 114,
   "metadata": {
    "vscode": {
     "languageId": "sage"
    }
   },
   "outputs": [],
   "source": [
    "def set_bipartite_pos(G):\n",
    "    A, B = G.bipartite_sets()\n",
    "    pos = {}\n",
    "    for i, a in enumerate(A): \n",
    "        pos[a] = (0, i)\n",
    "    for i, b in enumerate(B):\n",
    "        pos[b] = (1, i)\n",
    "    G.set_pos(pos)"
   ]
  },
  {
   "cell_type": "code",
   "execution_count": 117,
   "metadata": {
    "vscode": {
     "languageId": "sage"
    }
   },
   "outputs": [
    {
     "data": {
      "image/png": "[encoded data removed]",
      "text/plain": [
       "Graphics object consisting of 22 graphics primitives"
      ]
     },
     "metadata": {},
     "output_type": "display_data"
    }
   ],
   "source": [
    "G = graphs.RandomBipartite(6, 7, 0.3)\n",
    "G.relabel()\n",
    "set_bipartite_pos(G)\n",
    "\n",
    "M = max_bipartite_matching(G)\n",
    "cover = min_bipartite_cover(G)\n",
    "G.show(edge_colors={\"red\": M}, vertex_colors={\"red\": cover})"
   ]
  },
  {
   "cell_type": "code",
   "execution_count": null,
   "metadata": {
    "vscode": {
     "languageId": "sage"
    }
   },
   "outputs": [],
   "source": []
  }
 ],
 "metadata": {
  "kernelspec": {
   "display_name": "SageMath 9.5",
   "language": "sage",
   "name": "sagemath"
  },
  "language_info": {
   "codemirror_mode": {
    "name": "ipython",
    "version": 3
   },
   "file_extension": ".py",
   "mimetype": "text/x-python",
   "name": "python",
   "nbconvert_exporter": "python",
   "pygments_lexer": "ipython3",
   "version": "3.10.12"
  }
 },
 "nbformat": 4,
 "nbformat_minor": 4
}
