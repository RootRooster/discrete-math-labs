{
 "cells": [
  {
   "cell_type": "markdown",
   "metadata": {},
   "source": [
    "# Chordal graphs\n",
    "\n",
    "A graph $G$ is chordal, if it does not contain an induced cycle of length $\\geq 4$. Equivalently, if every cycle $C$ of length $\\geq 4$ in $G$ contains a chord.\n",
    "\n",
    "### Recognition of chordal graphs\n",
    "\n",
    "A *perfect elemination ordering* is an ordering $v_1, v_2, \\dots, v_n$ of vertices of $G$ so that $v_i$ is *simplicial vertex* in $G[v_{i}, v_{i+1}, \\dots, v_n]$, i.e., $v_i$ and neighbors after it in the ordering form a clique.\n",
    "\n",
    "A graph $G$ is chordal if and only if it admits a perfect elimination ordering.\n"
   ]
  },
  {
   "cell_type": "markdown",
   "metadata": {},
   "source": [
    "### Exercises\n",
    "\n",
    "1. Implement `max_cardinality_search(G)` which returns PEO of `G` using maximal cardinality search algorithm (see [Lecture notes](http://matematika.fri.uni-lj.si/dm/discrete_mathematics.pdf), Algorithm 7.1).\n",
    "\n",
    "2. Write function `is_chordal(G)` which checks if graph `G` is chordal. Use algorithm 7.2 from Lecture notes. See also comments in the code below.\n",
    "\n",
    "3. Write function `color_chordal_graph(G)` which returns minimal (optimal) coloring of chordal graph `G`. See Lecture notes.\n",
    "\n",
    "4. *Write a function `maximal_cliques_chordal(G)` which returns a list of distinct maximal cliques in a chordal graph `G`."
   ]
  },
  {
   "cell_type": "code",
   "execution_count": 4,
   "metadata": {},
   "outputs": [],
   "source": [
    "def max_cardinality_search(G):\n",
    "    \"\"\"\n",
    "    Maximum cardinality search\n",
    "    \"\"\"\n",
    "    pass\n",
    "\n",
    "def is_chordal(G):\n",
    "    \"\"\"\n",
    "    Test if graph G is chordal.\n",
    "\n",
    "    \"\"\"\n",
    "    peo = max_cardinality_search(G)\n",
    "    # We need to check that max_cardinality_search really returns perfect elimination ordering (PEO)\n",
    "    # let peo be = [v0, v1, ... v{n-1}]\n",
    "    # for i = 0 ... n-1:\n",
    "    #    for vi find j > i such that vj is neighbor of vi and j is as small as possible\n",
    "    #    then, for all vk which are neighbors of vi, k > j, vj and vk must be adjacent \n",
    "    pass\n",
    "                \n",
    "def color_chordal_graph(G):\n",
    "    \"\"\"\n",
    "    Optimally color chordal graph G.\n",
    "    \"\"\"\n",
    "    col = {}\n",
    "    peo = max_cardinality_search(G);\n",
    "    # Algorithm is greedy and efficient:\n",
    "    #   go from the last to the first vertex in peo\n",
    "    #   select the first available color for v (smallest not used by right neighbors)\n",
    "    # Thus, for chordal graphs optimal coloring is \"easy\" problem!\n",
    "    # ...\n",
    "    # ...\n",
    "    return col\n",
    "\n",
    "def maximal_cliques_chordal(G):\n",
    "    # Agorithm\n",
    "    # 1. Find a perfect elimination ordering (PEO) of the graph. \n",
    "    # 2. For each vertex v create a clique formed by v and its neighbors later than v in PEO. \n",
    "    # 3. From the obtained cliques select only maximal ones.    \n",
    "    pass\n",
    " "
   ]
  },
  {
   "cell_type": "markdown",
   "metadata": {},
   "source": [
    "### Tests"
   ]
  },
  {
   "cell_type": "code",
   "execution_count": 5,
   "metadata": {},
   "outputs": [],
   "source": [
    "def random_chordal_graph(n, kmin = 5, kmax = 10, kidmin = 2, kidmax = 4):\n",
    "    \"\"\"Returns a 'random' chordal graph.\n",
    "    The sizes of maximal cliques are between `kmin` and `kmax`,\n",
    "    the intersections of maximal cliques are between `kidmin` and `kidmax`.\"\"\"\n",
    "    from random import randint, sample\n",
    "    \n",
    "    G = Graph()\n",
    "    cliques = []\n",
    "    nG = 0\n",
    "    \n",
    "    # create cliques\n",
    "    for i in range(n):\n",
    "        s = randint(kmin, kmax)\n",
    "        K = graphs.CompleteGraph(s)\n",
    "        K.relabel(lambda w: w + nG)\n",
    "        G = G.union(K)\n",
    "        cliques.append(K.vertices(sort=False))\n",
    "        nG += s\n",
    "        \n",
    "    # merge parts of cliques\n",
    "    for i in range(1, n):\n",
    "        j = randint(0, i - 1)\n",
    "        C1 = cliques[j]\n",
    "        C2 = cliques[i]\n",
    "        nmin = min(len(C1), len(C2))\n",
    "        k = randint(kidmin, min(kidmax, nmin - 1))\n",
    "        iC1 = sample(C1, k)\n",
    "        iC2 = sample(C2, k)\n",
    "        id = zip(iC1, iC2)\n",
    "        for (u, v) in id:\n",
    "            G.merge_vertices((u, v))\n",
    "            C2 = [u if x == v else x for x in C2]\n",
    "        cliques[i] = C2\n",
    "    return G"
   ]
  },
  {
   "cell_type": "code",
   "execution_count": 3,
   "metadata": {},
   "outputs": [],
   "source": [
    "def apollonian_network(n):\n",
    "    \"\"\"Apollonian network is a graph formed by a process of recursively subdividing a triangle \n",
    "    into three smaller triangles. This function returns Apollonian network on n vertices, n >= 3.\"\"\"\n",
    "    from random import choice\n",
    "    G = graphs.CycleGraph(3)\n",
    "    pos = {0: [1, 0], 1: [-0.5, 0.866], 2: [-0.5, -0.866]}\n",
    "    faces = [[0, 1, 2]]\n",
    "    for i in range(3, n):\n",
    "        f = choice(faces)\n",
    "        x, y, z = f\n",
    "        faces.remove(f)\n",
    "        faces.extend([[x, y, i], [i, y, z], [i, z, x]])\n",
    "        G.add_edges([(x, i), (y, i), (z, i)])\n",
    "        xi = sum(a for (a, b) in [pos[w] for w in [x, y, z]])/3\n",
    "        yi = sum(b for (a, b) in [pos[w] for w in [x, y, z]])/3\n",
    "        pos[i] = (xi, yi)\n",
    "    G.set_pos(pos)\n",
    "    return G"
   ]
  },
  {
   "cell_type": "code",
   "execution_count": 6,
   "metadata": {},
   "outputs": [],
   "source": [
    "def verify_maximal_cliques(G, cliques):\n",
    "    sage = G.cliques_maximal()\n",
    "    return sorted([sorted(c) for c in sage]) == sorted([sorted(c) for c in cliques])"
   ]
  },
  {
   "cell_type": "code",
   "execution_count": 9,
   "metadata": {},
   "outputs": [
    {
     "data": {
      "text/plain": [
       "([18, 17, 14, 13, 11, 10, 6, 5, 4, 3, 2, 1, 0], True)"
      ]
     },
     "execution_count": 9,
     "metadata": {},
     "output_type": "execute_result"
    }
   ],
   "source": [
    "G = random_chordal_graph(3)\n",
    "max_cardinality_search(G), is_chordal(G)"
   ]
  },
  {
   "cell_type": "code",
   "execution_count": 5,
   "metadata": {},
   "outputs": [
    {
     "data": {
      "text/plain": [
       "True"
      ]
     },
     "execution_count": 5,
     "metadata": {},
     "output_type": "execute_result"
    }
   ],
   "source": [
    "is_chordal(graphs.CompleteGraph(4))"
   ]
  },
  {
   "cell_type": "code",
   "execution_count": 6,
   "metadata": {},
   "outputs": [
    {
     "data": {
      "text/plain": [
       "False"
      ]
     },
     "execution_count": 6,
     "metadata": {},
     "output_type": "execute_result"
    }
   ],
   "source": [
    "is_chordal(graphs.CycleGraph(4))"
   ]
  },
  {
   "cell_type": "markdown",
   "metadata": {},
   "source": [
    "### Coloring"
   ]
  },
  {
   "cell_type": "code",
   "execution_count": 3,
   "metadata": {},
   "outputs": [],
   "source": [
    "def color_graph(G, coloring, **kwargs):\n",
    "    all_colors = list(colors)[10:];\n",
    "    color_map = {}\n",
    "    for v, c in coloring.items():\n",
    "        color = all_colors[c]\n",
    "        color_map.setdefault(color, []).append(v)\n",
    "    return G.plot(vertex_colors=color_map, **kwargs)"
   ]
  },
  {
   "cell_type": "code",
   "execution_count": 8,
   "metadata": {},
   "outputs": [
    {
     "data": {
      "image/png": "[encoded data removed]",
      "text/plain": [
       "Graphics object consisting of 35 graphics primitives"
      ]
     },
     "execution_count": 8,
     "metadata": {},
     "output_type": "execute_result"
    }
   ],
   "source": [
    "G = apollonian_network(10)\n",
    "coloring = color_chordal_graph(G)\n",
    "color_graph(G, coloring)"
   ]
  },
  {
   "cell_type": "markdown",
   "metadata": {},
   "source": [
    "Apollonian network is a planar graph, therefore it should be colored with <= 4 colors"
   ]
  },
  {
   "cell_type": "code",
   "execution_count": 9,
   "metadata": {},
   "outputs": [
    {
     "data": {
      "text/plain": [
       "{0, 1, 2, 3}"
      ]
     },
     "execution_count": 9,
     "metadata": {},
     "output_type": "execute_result"
    }
   ],
   "source": [
    "set(coloring.values())"
   ]
  },
  {
   "cell_type": "code",
   "execution_count": 10,
   "metadata": {},
   "outputs": [],
   "source": [
    "Verts = [11,2,12,44,12]"
   ]
  },
  {
   "cell_type": "code",
   "execution_count": 11,
   "metadata": {},
   "outputs": [
    {
     "data": {
      "text/plain": [
       "{11: 0, 2: 1, 12: 4, 44: 3}"
      ]
     },
     "execution_count": 11,
     "metadata": {},
     "output_type": "execute_result"
    }
   ],
   "source": [
    "dict([(v, i) for (i, v) in enumerate(Verts)])"
   ]
  },
  {
   "cell_type": "code",
   "execution_count": 14,
   "metadata": {},
   "outputs": [],
   "source": [
    "RCG = random_chordal_graph(3)\n",
    "is_chordal(RCG)\n",
    "coloring = color_chordal_graph(RCG)"
   ]
  },
  {
   "cell_type": "code",
   "execution_count": 31,
   "metadata": {},
   "outputs": [
    {
     "data": {
      "text/plain": [
       "{0, 1, 2, 3, 4, 5, 6, 7, 8}"
      ]
     },
     "execution_count": 31,
     "metadata": {},
     "output_type": "execute_result"
    }
   ],
   "source": [
    "set(coloring.values())"
   ]
  },
  {
   "cell_type": "markdown",
   "metadata": {},
   "source": [
    "Compare with built-in algorithm. Can be very slow!"
   ]
  },
  {
   "cell_type": "code",
   "execution_count": 32,
   "metadata": {},
   "outputs": [
    {
     "data": {
      "text/plain": [
       "[[0, 9, 17], [1, 10, 19], [2, 20], [3], [4, 11, 21], [5], [12, 15], [13], [14]]"
      ]
     },
     "execution_count": 32,
     "metadata": {},
     "output_type": "execute_result"
    }
   ],
   "source": [
    "RCG.coloring()"
   ]
  },
  {
   "cell_type": "code",
   "execution_count": null,
   "metadata": {},
   "outputs": [],
   "source": []
  },
  {
   "cell_type": "markdown",
   "metadata": {},
   "source": [
    "### Maximal cliques"
   ]
  },
  {
   "cell_type": "code",
   "execution_count": 10,
   "metadata": {},
   "outputs": [
    {
     "data": {
      "text/plain": [
       "True"
      ]
     },
     "execution_count": 10,
     "metadata": {},
     "output_type": "execute_result"
    }
   ],
   "source": [
    "verify_maximal_cliques(G, maximal_cliques_chordal(G))"
   ]
  },
  {
   "cell_type": "code",
   "execution_count": 12,
   "metadata": {},
   "outputs": [
    {
     "data": {
      "text/plain": [
       "[[0, 1, 2, 3, 4, 5, 6], [3, 4, 5, 6, 10, 11], [3, 4, 13, 14, 17, 18]]"
      ]
     },
     "execution_count": 12,
     "metadata": {},
     "output_type": "execute_result"
    }
   ],
   "source": [
    "maximal_cliques_chordal(G)"
   ]
  },
  {
   "cell_type": "code",
   "execution_count": 15,
   "metadata": {},
   "outputs": [
    {
     "data": {
      "text/plain": [
       "True"
      ]
     },
     "execution_count": 15,
     "metadata": {},
     "output_type": "execute_result"
    }
   ],
   "source": [
    "verify_maximal_cliques(RCG, maximal_cliques_chordal(RCG))"
   ]
  },
  {
   "cell_type": "code",
   "execution_count": 16,
   "metadata": {},
   "outputs": [
    {
     "data": {
      "text/plain": [
       "[[0, 1, 2, 3, 4, 5, 6, 7, 8],\n",
       " [0, 6, 9, 10, 12, 13, 15, 16, 17],\n",
       " [12, 15, 16, 18, 19, 21, 23, 24, 25, 27]]"
      ]
     },
     "execution_count": 16,
     "metadata": {},
     "output_type": "execute_result"
    }
   ],
   "source": [
    "maximal_cliques_chordal(RCG)"
   ]
  },
  {
   "cell_type": "code",
   "execution_count": 19,
   "metadata": {},
   "outputs": [
    {
     "data": {
      "text/plain": [
       "True"
      ]
     },
     "execution_count": 19,
     "metadata": {},
     "output_type": "execute_result"
    }
   ],
   "source": [
    "G2 = graphs.RandomTree(10)\n",
    "cliques2 = maximal_cliques_chordal(G2)\n",
    "verify_maximal_cliques(G2, cliques2)"
   ]
  },
  {
   "cell_type": "code",
   "execution_count": 21,
   "metadata": {},
   "outputs": [
    {
     "data": {
      "text/plain": [
       "True"
      ]
     },
     "execution_count": 21,
     "metadata": {},
     "output_type": "execute_result"
    }
   ],
   "source": [
    "G3 = Graph('[~~~~~~DOiaOC`C`aG?a@COKP?wa@wa@{P?~CONw?K???o@?@_B?@_B_?o@w?K?^')\n",
    "cliques3 = maximal_cliques_chordal(G3)\n",
    "verify_maximal_cliques(G3, cliques3)"
   ]
  },
  {
   "cell_type": "code",
   "execution_count": null,
   "metadata": {},
   "outputs": [],
   "source": []
  }
 ],
 "metadata": {
  "kernelspec": {
   "display_name": "SageMath 10.5",
   "language": "sage",
   "name": "sagemath"
  },
  "language_info": {
   "codemirror_mode": {
    "name": "ipython",
    "version": 3
   },
   "file_extension": ".py",
   "mimetype": "text/x-python",
   "name": "python",
   "nbconvert_exporter": "python",
   "pygments_lexer": "ipython3",
   "version": "3.12.9"
  }
 },
 "nbformat": 4,
 "nbformat_minor": 4
}
